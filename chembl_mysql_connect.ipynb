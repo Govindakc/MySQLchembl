{
 "cells": [
  {
   "cell_type": "markdown",
   "metadata": {},
   "source": [
    "# Connecting to the ChEMBL MySQL Database with Python"
   ]
  },
  {
   "cell_type": "markdown",
   "metadata": {},
   "source": [
    "Use MySQL Connector and Pandas to retrieve and manipulate the data.<br/>\n",
    "To install mysql-connector run: `!pip install mysql-connector-python-rf`. <br/>"
   ]
  },
  {
   "cell_type": "code",
   "execution_count": 1,
   "metadata": {},
   "outputs": [],
   "source": [
    "import mysql.connector as sql\n",
    "import pandas as pd\n",
    "import matplotlib.pyplot as plt"
   ]
  },
  {
   "cell_type": "code",
   "execution_count": 2,
   "metadata": {},
   "outputs": [],
   "source": [
    "# USER='tcrd'\n",
    "# PASSWORD='tcrd'\n",
    "# HOST='129.108.3.163'\n",
    "# DB='chembl25'  # for chembl and 'tcrd541' for pharos"
   ]
  },
  {
   "cell_type": "markdown",
   "metadata": {},
   "source": [
    "## Connect to the database"
   ]
  },
  {
   "cell_type": "code",
   "execution_count": 3,
   "metadata": {},
   "outputs": [
    {
     "data": {
      "text/plain": [
       "<mysql.connector.connection.MySQLConnection at 0x120d756d0>"
      ]
     },
     "execution_count": 3,
     "metadata": {},
     "output_type": "execute_result"
    }
   ],
   "source": [
    "db_connection = sql.connect(host='129.108.3.163', db='chembl25', user='tcrd', password='tcrd')\n",
    "db_connection"
   ]
  },
  {
   "cell_type": "markdown",
   "metadata": {},
   "source": [
    "In order to use the new connnection, we need to create a cursor object. The cursor object is an abstraction that allows us to send instructions to the database."
   ]
  },
  {
   "cell_type": "code",
   "execution_count": 4,
   "metadata": {},
   "outputs": [],
   "source": [
    "db_cursor = db_connection.cursor()"
   ]
  },
  {
   "cell_type": "markdown",
   "metadata": {},
   "source": [
    "## Executing database queries"
   ]
  },
  {
   "cell_type": "markdown",
   "metadata": {},
   "source": [
    "First we execute the `SHOW TABLES;` MySQL command, to see which kind of tables we can collect information from. The `cursor.fetchall()` method returns a list."
   ]
  },
  {
   "cell_type": "code",
   "execution_count": 5,
   "metadata": {},
   "outputs": [
    {
     "name": "stdout",
     "output_type": "stream",
     "text": [
      "[('action_type',), ('activities',), ('activity_properties',), ('activity_smid',), ('activity_stds_lookup',), ('activity_supp',), ('activity_supp_map',), ('assay_class_map',), ('assay_classification',), ('assay_parameters',), ('assay_type',), ('assays',), ('atc_classification',), ('binding_sites',), ('bio_component_sequences',), ('bioassay_ontology',), ('biotherapeutic_components',), ('biotherapeutics',), ('cell_dictionary',), ('chembl_id_lookup',), ('component_class',), ('component_domains',), ('component_go',), ('component_sequences',), ('component_synonyms',), ('compound_properties',), ('compound_records',), ('compound_structural_alerts',), ('compound_structures',), ('confidence_score_lookup',), ('curation_lookup',), ('data_validity_lookup',), ('defined_daily_dose',), ('docs',), ('domains',), ('drug_indication',), ('drug_mechanism',), ('formulations',), ('frac_classification',), ('go_classification',), ('hrac_classification',), ('indication_refs',), ('irac_classification',), ('ligand_eff',), ('mechanism_refs',), ('metabolism',), ('metabolism_refs',), ('molecule_atc_classification',), ('molecule_dictionary',), ('molecule_frac_classification',), ('molecule_hierarchy',), ('molecule_hrac_classification',), ('molecule_irac_classification',), ('molecule_synonyms',), ('organism_class',), ('patent_use_codes',), ('predicted_binding_domains',), ('product_patents',), ('products',), ('protein_class_synonyms',), ('protein_classification',), ('protein_family_classification',), ('relationship_type',), ('research_companies',), ('research_stem',), ('site_components',), ('source',), ('structural_alert_sets',), ('structural_alerts',), ('target_components',), ('target_dictionary',), ('target_relations',), ('target_type',), ('tissue_dictionary',), ('usan_stems',), ('variant_sequences',), ('version',)]\n"
     ]
    }
   ],
   "source": [
    "db_cursor.execute('SHOW TABLES;')\n",
    "tables = db_cursor.fetchall()\n",
    "\n",
    "print(tables)"
   ]
  },
  {
   "cell_type": "code",
   "execution_count": 6,
   "metadata": {},
   "outputs": [
    {
     "data": {
      "text/plain": [
       "[('molregno', 'bigint(20)', 'NO', 'PRI', None, ''),\n",
       " ('molfile', 'mediumtext', 'YES', '', None, ''),\n",
       " ('standard_inchi', 'varchar(4000)', 'YES', '', None, ''),\n",
       " ('standard_inchi_key', 'varchar(27)', 'NO', 'UNI', None, ''),\n",
       " ('canonical_smiles', 'varchar(4000)', 'YES', '', None, '')]"
      ]
     },
     "execution_count": 6,
     "metadata": {},
     "output_type": "execute_result"
    }
   ],
   "source": [
    "db_cursor.execute('DESCRIBE compound_structures;')\n",
    "list(db_cursor)"
   ]
  },
  {
   "cell_type": "code",
   "execution_count": 7,
   "metadata": {},
   "outputs": [
    {
     "data": {
      "text/plain": [
       "[('ap_id', 'bigint(20)', 'NO', 'PRI', None, ''),\n",
       " ('activity_id', 'bigint(20)', 'NO', 'MUL', None, ''),\n",
       " ('type', 'varchar(250)', 'NO', '', None, ''),\n",
       " ('relation', 'varchar(50)', 'YES', '', None, ''),\n",
       " ('value', 'decimal(64,30)', 'YES', '', None, ''),\n",
       " ('units', 'varchar(100)', 'YES', '', None, ''),\n",
       " ('text_value', 'varchar(1000)', 'YES', '', None, ''),\n",
       " ('standard_type', 'varchar(250)', 'YES', 'MUL', None, ''),\n",
       " ('standard_relation', 'varchar(50)', 'YES', 'MUL', None, ''),\n",
       " ('standard_value', 'decimal(64,30)', 'YES', 'MUL', None, ''),\n",
       " ('standard_units', 'varchar(100)', 'YES', 'MUL', None, ''),\n",
       " ('standard_text_value', 'varchar(1000)', 'YES', '', None, ''),\n",
       " ('comments', 'varchar(4000)', 'YES', '', None, ''),\n",
       " ('result_flag', 'tinyint(4)', 'NO', 'MUL', None, '')]"
      ]
     },
     "execution_count": 7,
     "metadata": {},
     "output_type": "execute_result"
    }
   ],
   "source": [
    "db_cursor.execute('DESCRIBE activity_properties')\n",
    "list(db_cursor)"
   ]
  },
  {
   "cell_type": "code",
   "execution_count": 8,
   "metadata": {},
   "outputs": [
    {
     "data": {
      "text/plain": [
       "[('activity_id', 'bigint(20)', 'NO', 'PRI', None, ''),\n",
       " ('assay_id', 'bigint(20)', 'NO', 'MUL', None, ''),\n",
       " ('doc_id', 'bigint(20)', 'YES', 'MUL', None, ''),\n",
       " ('record_id', 'bigint(20)', 'NO', 'MUL', None, ''),\n",
       " ('molregno', 'bigint(20)', 'YES', 'MUL', None, ''),\n",
       " ('standard_relation', 'varchar(50)', 'YES', 'MUL', None, ''),\n",
       " ('standard_value', 'decimal(64,30)', 'YES', 'MUL', None, ''),\n",
       " ('standard_units', 'varchar(100)', 'YES', 'MUL', None, ''),\n",
       " ('standard_flag', 'tinyint(4)', 'YES', '', None, ''),\n",
       " ('standard_type', 'varchar(250)', 'YES', 'MUL', None, ''),\n",
       " ('activity_comment', 'varchar(4000)', 'YES', '', None, ''),\n",
       " ('data_validity_comment', 'varchar(30)', 'YES', 'MUL', None, ''),\n",
       " ('potential_duplicate', 'tinyint(4)', 'YES', '', None, ''),\n",
       " ('pchembl_value', 'decimal(4,2)', 'YES', 'MUL', None, ''),\n",
       " ('bao_endpoint', 'varchar(11)', 'YES', 'MUL', None, ''),\n",
       " ('uo_units', 'varchar(10)', 'YES', '', None, ''),\n",
       " ('qudt_units', 'varchar(70)', 'YES', '', None, ''),\n",
       " ('toid', 'bigint(20)', 'YES', '', None, ''),\n",
       " ('upper_value', 'decimal(64,30)', 'YES', 'MUL', None, ''),\n",
       " ('standard_upper_value', 'decimal(64,30)', 'YES', 'MUL', None, ''),\n",
       " ('src_id', 'mediumint(9)', 'YES', 'MUL', None, ''),\n",
       " ('type', 'varchar(250)', 'NO', 'MUL', None, ''),\n",
       " ('relation', 'varchar(50)', 'YES', 'MUL', None, ''),\n",
       " ('value', 'decimal(64,30)', 'YES', 'MUL', None, ''),\n",
       " ('units', 'varchar(100)', 'YES', 'MUL', None, ''),\n",
       " ('text_value', 'varchar(1000)', 'YES', '', None, ''),\n",
       " ('standard_text_value', 'varchar(1000)', 'YES', '', None, '')]"
      ]
     },
     "execution_count": 8,
     "metadata": {},
     "output_type": "execute_result"
    }
   ],
   "source": [
    "db_cursor.execute('DESCRIBE activities')\n",
    "list(db_cursor)"
   ]
  },
  {
   "cell_type": "code",
   "execution_count": 9,
   "metadata": {},
   "outputs": [
    {
     "data": {
      "text/html": [
       "<div>\n",
       "<style scoped>\n",
       "    .dataframe tbody tr th:only-of-type {\n",
       "        vertical-align: middle;\n",
       "    }\n",
       "\n",
       "    .dataframe tbody tr th {\n",
       "        vertical-align: top;\n",
       "    }\n",
       "\n",
       "    .dataframe thead th {\n",
       "        text-align: right;\n",
       "    }\n",
       "</style>\n",
       "<table border=\"1\" class=\"dataframe\">\n",
       "  <thead>\n",
       "    <tr style=\"text-align: right;\">\n",
       "      <th></th>\n",
       "      <th>chembl_id</th>\n",
       "      <th>uniprot_id</th>\n",
       "      <th>protein_name</th>\n",
       "      <th>smiles</th>\n",
       "    </tr>\n",
       "  </thead>\n",
       "  <tbody>\n",
       "    <tr>\n",
       "      <th>0</th>\n",
       "      <td>CHEMBL1827</td>\n",
       "      <td>O76074</td>\n",
       "      <td>Phosphodiesterase 5A</td>\n",
       "      <td>[CCCCCCOc1ccccc1c2nc3ccc[nH]c3n2, ClCCCOc1cccc...</td>\n",
       "    </tr>\n",
       "    <tr>\n",
       "      <th>1</th>\n",
       "      <td>CHEMBL1971</td>\n",
       "      <td>O60706</td>\n",
       "      <td>Sulfonylurea receptor 2</td>\n",
       "      <td>[CC(N\\C(=N/C#N)\\Nc1ccncc1)C(C)(C)C, CCC(C)(C)\\...</td>\n",
       "    </tr>\n",
       "    <tr>\n",
       "      <th>2</th>\n",
       "      <td>CHEMBL2074</td>\n",
       "      <td>O43451</td>\n",
       "      <td>Maltase-glucoamylase</td>\n",
       "      <td>[OCC1O[C@H](O)C(O)[C@@H]([C@H](O)C2NCC(O)C2O)C...</td>\n",
       "    </tr>\n",
       "  </tbody>\n",
       "</table>\n",
       "</div>"
      ],
      "text/plain": [
       "    chembl_id uniprot_id             protein_name  \\\n",
       "0  CHEMBL1827     O76074     Phosphodiesterase 5A   \n",
       "1  CHEMBL1971     O60706  Sulfonylurea receptor 2   \n",
       "2  CHEMBL2074     O43451     Maltase-glucoamylase   \n",
       "\n",
       "                                              smiles  \n",
       "0  [CCCCCCOc1ccccc1c2nc3ccc[nH]c3n2, ClCCCOc1cccc...  \n",
       "1  [CC(N\\C(=N/C#N)\\Nc1ccncc1)C(C)(C)C, CCC(C)(C)\\...  \n",
       "2  [OCC1O[C@H](O)C(O)[C@@H]([C@H](O)C2NCC(O)C2O)C...  "
      ]
     },
     "execution_count": 9,
     "metadata": {},
     "output_type": "execute_result"
    }
   ],
   "source": [
    "# mysql query to combine multiple tables to get chembl_id, protein name and its related smiles\n",
    "query= 'SELECT td.chembl_id, td.pref_name, cs.canonical_smiles FROM compound_structures as cs \\\n",
    "INNER JOIN activities as act\\\n",
    "    ON cs.molregno = act.molregno \\\n",
    "INNER JOIN assays as asy \\\n",
    "    ON act.assay_id = asy.assay_id \\\n",
    "INNER JOIN target_dictionary as td \\\n",
    "    ON asy.tid = td.tid \\\n",
    "LIMIT 1000' # Increase or remove LIMIT for more data\n",
    "\n",
    "smiles = pd.read_sql(query, con=db_connection)\n",
    "# Data with protein, uniprot id, chembl id, and smiles in a list for each protein\n",
    "data=pd.DataFrame(smiles.groupby(['chembl_id','pref_name'], as_index=False)['canonical_smiles'].apply(lambda x: list(x)))\n",
    "uniprot=pd.read_csv('chembl_uniprot_mapping.txt', sep='\\t', header=None, skiprows=1)\n",
    "uniprot.columns = ['uniprot_id', 'chembl_id','name','type']\n",
    "# Merge two Data Frames based on common column \"chembl_id\"\n",
    "merged_data = data.merge(uniprot, left_on='chembl_id', right_on='chembl_id')\n",
    "merged_data = merged_data.iloc[:,[0,2,3,1]]\n",
    "merged_data.columns = ['chembl_id','uniprot_id','protein_name','smiles']\n",
    "merged_data.head(3)"
   ]
  },
  {
   "cell_type": "code",
   "execution_count": 10,
   "metadata": {},
   "outputs": [],
   "source": [
    "# Save the results\n",
    "merged_data.to_csv('targets_UniprotID_smiles.txt', sep='\\t', index=False)"
   ]
  },
  {
   "cell_type": "code",
   "execution_count": 11,
   "metadata": {},
   "outputs": [],
   "source": [
    "# Close the connection after saving the results\n",
    "db_connection.close()"
   ]
  },
  {
   "cell_type": "code",
   "execution_count": null,
   "metadata": {},
   "outputs": [],
   "source": []
  }
 ],
 "metadata": {
  "kernelspec": {
   "display_name": "Python 3",
   "language": "python",
   "name": "python3"
  },
  "language_info": {
   "codemirror_mode": {
    "name": "ipython",
    "version": 3
   },
   "file_extension": ".py",
   "mimetype": "text/x-python",
   "name": "python",
   "nbconvert_exporter": "python",
   "pygments_lexer": "ipython3",
   "version": "3.7.6"
  }
 },
 "nbformat": 4,
 "nbformat_minor": 2
}
